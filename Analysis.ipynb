{
 "cells": [
  {
   "cell_type": "code",
   "execution_count": null,
   "id": "0",
   "metadata": {},
   "outputs": [],
   "source": [
    "import polars as pl\n",
    "lf = pl.scan_parquet('parquets/*.parquet')\n",
    "print(f\"Total sequences: {lf.select(pl.len().alias('count')).collect().item()}\")"
   ]
  },
  {
   "cell_type": "markdown",
   "id": "1",
   "metadata": {},
   "source": [
    "# VH - VL Pairing Preferences"
   ]
  },
  {
   "cell_type": "code",
   "execution_count": null,
   "id": "2",
   "metadata": {},
   "outputs": [],
   "source": [
    "counts = lf.group_by(pl.col(\"v_call_light\", \"v_call_heavy\")).agg(pl.len()).collect()\n",
    "\n",
    "dfpandas = counts.to_pandas()\n",
    "\n",
    "contab = dfpandas.pivot_table(index='v_call_heavy', columns='v_call_light', values='len').fillna(0)"
   ]
  },
  {
   "cell_type": "code",
   "execution_count": null,
   "id": "3",
   "metadata": {},
   "outputs": [],
   "source": [
    "contab = contab.loc[contab.sum(1).gt(100),contab.sum(0).gt(100)]\n",
    "total_seqs = contab.values.sum()"
   ]
  },
  {
   "cell_type": "code",
   "execution_count": null,
   "id": "4",
   "metadata": {},
   "outputs": [],
   "source": [
    "hc_totals = contab.sum(axis=1).values\n",
    "\n",
    "lc_totals = contab.sum(axis=0).values \n",
    "\n",
    "expected = np.outer(hc_totals, lc_totals) / total_seqs"
   ]
  },
  {
   "cell_type": "code",
   "execution_count": null,
   "id": "5",
   "metadata": {},
   "outputs": [],
   "source": [
    "chisq_stat = ((contab - expected) ** 2 / expected).values.sum()"
   ]
  },
  {
   "cell_type": "code",
   "execution_count": null,
   "id": "6",
   "metadata": {},
   "outputs": [],
   "source": [
    "chisq_stat"
   ]
  },
  {
   "cell_type": "code",
   "execution_count": null,
   "id": "7",
   "metadata": {},
   "outputs": [],
   "source": [
    "from scipy.stats import chi2"
   ]
  },
  {
   "cell_type": "code",
   "execution_count": null,
   "id": "8",
   "metadata": {},
   "outputs": [],
   "source": [
    "degfreedom = (contab.shape[0] - 1) * (contab.shape[1] - 1)\n",
    "pval = 1 - chi2.cdf(chisq_stat, degfreedom)"
   ]
  },
  {
   "cell_type": "code",
   "execution_count": null,
   "id": "9",
   "metadata": {},
   "outputs": [],
   "source": []
  }
 ],
 "metadata": {
  "kernelspec": {
   "display_name": "oas-download",
   "language": "python",
   "name": "oas-download"
  },
  "language_info": {
   "codemirror_mode": {
    "name": "ipython",
    "version": 3
   },
   "file_extension": ".py",
   "mimetype": "text/x-python",
   "name": "python",
   "nbconvert_exporter": "python",
   "pygments_lexer": "ipython3",
   "version": "3.12.9"
  }
 },
 "nbformat": 4,
 "nbformat_minor": 5
}
